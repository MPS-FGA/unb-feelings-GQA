{
 "cells": [
  {
   "cell_type": "code",
   "execution_count": 1,
   "metadata": {},
   "outputs": [],
   "source": [
    "import numpy\n",
    "import pandas\n",
    "\n",
    "#nao_conformidades = pandas.read_csv('./data/nao_conformidades.csv', sep=\",\")\n",
    "#auditorias = pandas.read_csv('./data/auditorias.csv', sep=\",\")\n",
    "\n",
    "auditoria_labels = ['objeto', 'equipe', 'iteracao', 'issue', 'status', 'responsavel']\n",
    "auditorias = pandas.read_csv('./data/auditorias.csv', sep=\",\", names=auditoria_labels)\n",
    "\n",
    "objetos_labels = ['objeto', 'area']\n",
    "objetos_auditoria = pandas.read_csv('./data/objetos_auditoria.csv', sep=\",\", names=objetos_labels)"
   ]
  },
  {
   "cell_type": "markdown",
   "metadata": {},
   "source": [
    "## Auditorias"
   ]
  },
  {
   "cell_type": "code",
   "execution_count": 2,
   "metadata": {},
   "outputs": [
    {
     "name": "stdout",
     "output_type": "stream",
     "text": [
      "                                             objeto  equipe    iteracao  \\\n",
      "24                     Lista informal de Requisitos  athena  iteração 3   \n",
      "25                                       Requisitos  athena  iteração 3   \n",
      "26                                          Backlog  athena  iteração 3   \n",
      "27                                 Backlog Validado  athena  iteração 3   \n",
      "28                                 Backlog Refinado  athena  iteração 3   \n",
      "29                               Backlog da Release  athena  iteração 3   \n",
      "30                     Planejamento de Treinamentos  athena  iteração 3   \n",
      "31                                Backlog da Sprint  athena  iteração 3   \n",
      "32                               Testes de Software  athena  iteração 3   \n",
      "33                           Incremento de Software  athena  iteração 3   \n",
      "34                      Backlog da Release Refinado  athena  iteração 3   \n",
      "35                       Relatório da Retrospectiva  athena  iteração 3   \n",
      "36                                 Plano de medição  athena  iteração 3   \n",
      "37                        Plano de medição Refinado  athena  iteração 3   \n",
      "38                             Métricas de Processo  athena  iteração 3   \n",
      "39                               Métricas de Código  athena  iteração 3   \n",
      "40             Documentação da análise das Métricas  athena  iteração 3   \n",
      "41                          Relatório de Desempenho  athena  iteração 3   \n",
      "42                                  Relatório Final  athena  iteração 3   \n",
      "43  Melhoria da qualidade do processo ou do produto  athena  iteração 3   \n",
      "44             Processo do ciclo de desenvolvimento  athena  iteração 3   \n",
      "45                           Subprocesso Requisitos  athena  iteração 3   \n",
      "46                      Subprocesso Desenvolvimento  athena  iteração 3   \n",
      "47                                Medição e Análise  athena  iteração 3   \n",
      "\n",
      "    issue  status      responsavel  \n",
      "24    102  closed  @eliseuegewarth  \n",
      "25    125  closed        @felipe72  \n",
      "26    120  closed         @gag2502  \n",
      "27    124  closed           @GDSRS  \n",
      "28    123    open     @halevalente  \n",
      "29    119  closed   @henriquedutra  \n",
      "30    121  closed   @Jefersonalves  \n",
      "31    122  closed         @lopes05  \n",
      "32    118  closed      @marimendes  \n",
      "33    117  closed  @mateusdemorais  \n",
      "34    116  closed        @wparaujo  \n",
      "35    115    open    @Renatafsouza  \n",
      "36    114  closed    @VictorArnaud  \n",
      "37    113  closed        @wparaujo  \n",
      "38    103  closed  @eliseuegewarth  \n",
      "39    112  closed        @felipe72  \n",
      "40    111  closed         @gag2502  \n",
      "41    110  closed           @GDSRS  \n",
      "42    109    open     @halevalente  \n",
      "43    108  closed   @henriquedutra  \n",
      "44    107  closed   @Jefersonalves  \n",
      "45    106  closed         @lopes05  \n",
      "46    105  closed      @marimendes  \n",
      "47    104  closed  @mateusdemorais  \n"
     ]
    }
   ],
   "source": [
    "#auditorias por iteração\n",
    "print(auditorias[auditorias.iteracao == 'iteração 3'])\n",
    "\n",
    "#auditorias abertas\n",
    "#print(auditorias[auditorias.status == 'closed'])\n",
    "\n",
    "#auditorias por responsavel\n",
    "#print(auditorias[auditorias.responsavel == '@Jefersonalves'])\n",
    "\n",
    "#auditorias por equipe e iteração\n",
    "#teste = auditorias[auditorias.equipe == 'athena']\n",
    "#teste = teste[teste.iteracao == 'iteração 3']"
   ]
  },
  {
   "cell_type": "markdown",
   "metadata": {},
   "source": [
    "## Objetos de auditoria"
   ]
  },
  {
   "cell_type": "code",
   "execution_count": 3,
   "metadata": {},
   "outputs": [
    {
     "name": "stdout",
     "output_type": "stream",
     "text": [
      "                                             objeto              area\n",
      "0                      Lista informal de Requisitos   desenvolvimento\n",
      "1                                        Requisitos   desenvolvimento\n",
      "2                                           Backlog   desenvolvimento\n",
      "3                                  Backlog Validado   desenvolvimento\n",
      "4                                  Backlog Refinado   desenvolvimento\n",
      "5                                Backlog da Release   desenvolvimento\n",
      "6                      Planejamento de Treinamentos   desenvolvimento\n",
      "7                                 Backlog da Sprint   desenvolvimento\n",
      "8                                Testes de Software   desenvolvimento\n",
      "9                            Incremento de Software   desenvolvimento\n",
      "10                      Backlog da Release Refinado   desenvolvimento\n",
      "11                       Relatório da Retrospectiva   desenvolvimento\n",
      "12                                 Plano de medição           medição\n",
      "13                        Plano de medição Refinado           medição\n",
      "14                             Métricas de Processo           medição\n",
      "15                               Métricas de Código           medição\n",
      "16             Documentação da análise das Métricas           medição\n",
      "17                          Relatório de Desempenho           medição\n",
      "18                                  Relatório Final           medição\n",
      "19  Melhoria da qualidade do processo ou do produto           medição\n",
      "20             Processo do ciclo de desenvolvimento          processo\n",
      "21                           Subprocesso Requisitos          processo\n",
      "22                      Subprocesso Desenvolvimento          processo\n",
      "23                                Medição e Análise          processo\n"
     ]
    }
   ],
   "source": [
    "print(objetos_auditoria)\n",
    "\n",
    "#objetos auditados iteração 2\n",
    "#print(auditorias.loc[0:23, ['objeto']])\n",
    "\n",
    "#objetos auditados iteração 3\n",
    "#print(auditorias.loc[24:, 'objeto'])"
   ]
  },
  {
   "cell_type": "code",
   "execution_count": 8,
   "metadata": {},
   "outputs": [],
   "source": [
    "#exemplos\n",
    "#t = objetos_auditoria['objeto de auditoria']\n",
    "#df.sort(columns='B')\n",
    "#df.loc[dates[0]]\n",
    "#print(auditorias.loc[20])\n",
    "#df[df.A > 0]\n",
    "#auditorias.pop('status')\n",
    "#auditorias.drop(columns=['status'])\n",
    "#auditorias.drop(['status'], axis=1)\n",
    "#como dicionário\n",
    "#print(auditorias.to_dict())"
   ]
  },
  {
   "cell_type": "code",
   "execution_count": 4,
   "metadata": {},
   "outputs": [
    {
     "name": "stdout",
     "output_type": "stream",
     "text": [
      "24    closed\n",
      "25    closed\n",
      "Name: status, dtype: object\n"
     ]
    }
   ],
   "source": [
    "print(auditorias.loc[24:25, 'status'])"
   ]
  },
  {
   "cell_type": "code",
   "execution_count": 5,
   "metadata": {},
   "outputs": [
    {
     "name": "stdout",
     "output_type": "stream",
     "text": [
      "objeto         Medição e Análise\n",
      "equipe                    athena\n",
      "iteracao              iteração 3\n",
      "issue                        104\n",
      "status                    closed\n",
      "responsavel      @mateusdemorais\n",
      "Name: 47, dtype: object\n"
     ]
    }
   ],
   "source": [
    "print(auditorias.iloc[47])"
   ]
  }
 ],
 "metadata": {
  "kernelspec": {
   "display_name": "Python 3",
   "language": "python",
   "name": "python3"
  },
  "language_info": {
   "codemirror_mode": {
    "name": "ipython",
    "version": 3
   },
   "file_extension": ".py",
   "mimetype": "text/x-python",
   "name": "python",
   "nbconvert_exporter": "python",
   "pygments_lexer": "ipython3",
   "version": "3.6.5"
  }
 },
 "nbformat": 4,
 "nbformat_minor": 2
}
